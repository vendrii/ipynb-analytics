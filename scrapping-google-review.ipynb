{
 "cells": [
  {
   "cell_type": "markdown",
   "metadata": {},
   "source": [
    "### Scrape Google Reviews and Ratings using Python (Only viewing and get the maps)"
   ]
  },
  {
   "cell_type": "code",
   "execution_count": null,
   "metadata": {},
   "outputs": [],
   "source": [
    "from selenium import webdriver\n",
    "from webdriver_manager.chrome import ChromeDriverManager"
   ]
  },
  {
   "cell_type": "code",
   "execution_count": null,
   "metadata": {},
   "outputs": [],
   "source": [
    "# As there are possibilities of different chrome\n",
    "# browser and we are not sure under which it get\n",
    "# executed let us use the below syntax\n",
    "driver = webdriver.Chrome(ChromeDriverManager().install())"
   ]
  },
  {
   "cell_type": "code",
   "execution_count": null,
   "metadata": {
    "scrolled": true
   },
   "outputs": [],
   "source": [
    "url = 'https://www.google.com/maps/place/Rashtrapathi Bavan'\n",
    "driver.get(url)"
   ]
  },
  {
   "cell_type": "code",
   "execution_count": null,
   "metadata": {},
   "outputs": [],
   "source": [
    "from selenium import webdriver\n",
    "from webdriver_manager.chrome import ChromeDriverManager\n",
    "from selenium.webdriver.support.ui import WebDriverWait\n",
    "from selenium.webdriver.common.action_chains import ActionChains\n",
    "from selenium.webdriver.support import expected_conditions as EC\n",
    "from selenium.common.exceptions import ElementNotVisibleException\n",
    "from selenium.webdriver.common.by import By\n",
    "from selenium.common.exceptions import TimeoutException\n",
    "from bs4 import BeautifulSoup\n",
    "\n",
    "driver = webdriver.Chrome(ChromeDriverManager().install())\n",
    "\n",
    "\n",
    "driver.maximize_window()\n",
    "driver.implicitly_wait(30)\n",
    "\n",
    "# Either we can hard code or can get via input.\n",
    "# The given input should be a valid one\n",
    "location = \"600028\"\n",
    "print(\"Search By \")\n",
    "print(\"1.Book shops\")\n",
    "print(\"2.Food\")\n",
    "print(\"3.Temples\")\n",
    "print(\"4.Exit\")\n",
    "ch = \"Y\"\n",
    "\n",
    "while (ch.upper() == 'Y'):\n",
    "\tchoice = input(\"Enter choice(1/2/3/4):\")\n",
    "\t\n",
    "\tif (choice == '1'):\n",
    "\t\tquery = \"book shops near \" + location\n",
    "\t\t\n",
    "\tif (choice == '2'):\n",
    "\t\tquery = \"food near \" + location\n",
    "\t\t\n",
    "\tif (choice == '3'):\n",
    "\t\tquery = \"temples near \" + location\n",
    "\t\t\n",
    "\tdriver.get(\"https://www.google.com/search?q=\" + query)\n",
    "\twait = WebDriverWait(driver, 10)\n",
    "\tActionChains(driver).move_to_element(wait.until(EC.element_to_be_clickable(\n",
    "\t\t(By.XPATH, \"//a[contains(@href, '/search?tbs')]\")))).perform()\n",
    "\twait.until(EC.element_to_be_clickable(\n",
    "\t\t(By.XPATH, \"//a[contains(@href, '/search?tbs')]\"))).click()\n",
    "\tnames = []\n",
    "\t\n",
    "\tfor name in driver.find_elements(By.XPATH, \"//div[@aria-level='3']\"):\n",
    "\t\tnames.append(name.text)\n",
    "\tprint(names)\n",
    "\n",
    "\tch = input(\"Do you want to continue (Y/N): \")\n"
   ]
  },
  {
   "cell_type": "markdown",
   "metadata": {},
   "source": [
    "# New Session (The Task assigned)"
   ]
  },
  {
   "cell_type": "code",
   "execution_count": 1,
   "metadata": {},
   "outputs": [],
   "source": [
    "from selenium import webdriver\n",
    "from bs4 import BeautifulSoup\n",
    "from selenium.webdriver.common.by import By\n",
    "from selenium.webdriver.support.ui import WebDriverWait\n",
    "from selenium.webdriver.support import expected_conditions as EC\n",
    "import time\n",
    "import pandas as pd"
   ]
  },
  {
   "cell_type": "code",
   "execution_count": 4,
   "metadata": {
    "scrolled": true
   },
   "outputs": [
    {
     "name": "stderr",
     "output_type": "stream",
     "text": [
      "<ipython-input-4-cac75f592269>:1: DeprecationWarning: executable_path has been deprecated, please pass in a Service object\n",
      "  driver = webdriver.Chrome(r\"C:\\Users\\Novendri Isra Asriny\\.wdm\\drivers\\chromedriver\\win32\\106.0.5249\\chromedriver.exe\")\n"
     ]
    },
    {
     "ename": "ElementNotInteractableException",
     "evalue": "Message: element not interactable\n  (Session info: chrome=106.0.5249.62)\nStacktrace:\nBacktrace:\n\tOrdinal0 [0x00B41ED3+2236115]\n\tOrdinal0 [0x00AD92F1+1807089]\n\tOrdinal0 [0x009E65C0+812480]\n\tOrdinal0 [0x00A16586+1009030]\n\tOrdinal0 [0x00A0C416+967702]\n\tOrdinal0 [0x00A31A8C+1120908]\n\tOrdinal0 [0x00A0BD84+966020]\n\tOrdinal0 [0x00A31CA4+1121444]\n\tOrdinal0 [0x00A459E2+1202658]\n\tOrdinal0 [0x00A318A6+1120422]\n\tOrdinal0 [0x00A0A73D+960317]\n\tOrdinal0 [0x00A0B71F+964383]\n\tGetHandleVerifier [0x00DEE7E2+2743074]\n\tGetHandleVerifier [0x00DE08D4+2685972]\n\tGetHandleVerifier [0x00BD2BAA+532202]\n\tGetHandleVerifier [0x00BD1990+527568]\n\tOrdinal0 [0x00AE080C+1837068]\n\tOrdinal0 [0x00AE4CD8+1854680]\n\tOrdinal0 [0x00AE4DC5+1854917]\n\tOrdinal0 [0x00AEED64+1895780]\n\tBaseThreadInitThunk [0x7522FA29+25]\n\tRtlGetAppContainerNamedObjectPath [0x77027B5E+286]\n\tRtlGetAppContainerNamedObjectPath [0x77027B2E+238]\n",
     "output_type": "error",
     "traceback": [
      "\u001b[1;31m---------------------------------------------------------------------------\u001b[0m",
      "\u001b[1;31mElementNotInteractableException\u001b[0m           Traceback (most recent call last)",
      "\u001b[1;32m<ipython-input-4-cac75f592269>\u001b[0m in \u001b[0;36m<module>\u001b[1;34m\u001b[0m\n\u001b[0;32m      2\u001b[0m \u001b[0murl\u001b[0m \u001b[1;33m=\u001b[0m \u001b[1;34m'https://www.google.com/maps/place/Hartono+Mall/@-7.759723,110.3967886,17z/data=!4m5!3m4!1s0x2e7a59a17e4e49eb:0xa864a4f7fe95e090!8m2!3d-7.759723!4d110.3989719'\u001b[0m\u001b[1;33m\u001b[0m\u001b[1;33m\u001b[0m\u001b[0m\n\u001b[0;32m      3\u001b[0m \u001b[0mdriver\u001b[0m\u001b[1;33m.\u001b[0m\u001b[0mget\u001b[0m\u001b[1;33m(\u001b[0m\u001b[0murl\u001b[0m\u001b[1;33m)\u001b[0m\u001b[1;33m\u001b[0m\u001b[1;33m\u001b[0m\u001b[0m\n\u001b[1;32m----> 4\u001b[1;33m \u001b[0mdriver\u001b[0m\u001b[1;33m.\u001b[0m\u001b[0mfind_element\u001b[0m\u001b[1;33m(\u001b[0m\u001b[0mBy\u001b[0m\u001b[1;33m.\u001b[0m\u001b[0mXPATH\u001b[0m\u001b[1;33m,\u001b[0m\u001b[1;34m'//*[@id=\"QA0Szd\"]/div/div/div[1]/div[2]/div/div[1]/div/div/div[60]/div/button/span'\u001b[0m\u001b[1;33m)\u001b[0m\u001b[1;33m.\u001b[0m\u001b[0mclick\u001b[0m\u001b[1;33m(\u001b[0m\u001b[1;33m)\u001b[0m\u001b[1;33m\u001b[0m\u001b[1;33m\u001b[0m\u001b[0m\n\u001b[0m",
      "\u001b[1;32m~\\anaconda3\\lib\\site-packages\\selenium\\webdriver\\remote\\webelement.py\u001b[0m in \u001b[0;36mclick\u001b[1;34m(self)\u001b[0m\n\u001b[0;32m     86\u001b[0m     \u001b[1;32mdef\u001b[0m \u001b[0mclick\u001b[0m\u001b[1;33m(\u001b[0m\u001b[0mself\u001b[0m\u001b[1;33m)\u001b[0m \u001b[1;33m->\u001b[0m \u001b[1;32mNone\u001b[0m\u001b[1;33m:\u001b[0m\u001b[1;33m\u001b[0m\u001b[1;33m\u001b[0m\u001b[0m\n\u001b[0;32m     87\u001b[0m         \u001b[1;34m\"\"\"Clicks the element.\"\"\"\u001b[0m\u001b[1;33m\u001b[0m\u001b[1;33m\u001b[0m\u001b[0m\n\u001b[1;32m---> 88\u001b[1;33m         \u001b[0mself\u001b[0m\u001b[1;33m.\u001b[0m\u001b[0m_execute\u001b[0m\u001b[1;33m(\u001b[0m\u001b[0mCommand\u001b[0m\u001b[1;33m.\u001b[0m\u001b[0mCLICK_ELEMENT\u001b[0m\u001b[1;33m)\u001b[0m\u001b[1;33m\u001b[0m\u001b[1;33m\u001b[0m\u001b[0m\n\u001b[0m\u001b[0;32m     89\u001b[0m \u001b[1;33m\u001b[0m\u001b[0m\n\u001b[0;32m     90\u001b[0m     \u001b[1;32mdef\u001b[0m \u001b[0msubmit\u001b[0m\u001b[1;33m(\u001b[0m\u001b[0mself\u001b[0m\u001b[1;33m)\u001b[0m\u001b[1;33m:\u001b[0m\u001b[1;33m\u001b[0m\u001b[1;33m\u001b[0m\u001b[0m\n",
      "\u001b[1;32m~\\anaconda3\\lib\\site-packages\\selenium\\webdriver\\remote\\webelement.py\u001b[0m in \u001b[0;36m_execute\u001b[1;34m(self, command, params)\u001b[0m\n\u001b[0;32m    394\u001b[0m             \u001b[0mparams\u001b[0m \u001b[1;33m=\u001b[0m \u001b[1;33m{\u001b[0m\u001b[1;33m}\u001b[0m\u001b[1;33m\u001b[0m\u001b[1;33m\u001b[0m\u001b[0m\n\u001b[0;32m    395\u001b[0m         \u001b[0mparams\u001b[0m\u001b[1;33m[\u001b[0m\u001b[1;34m'id'\u001b[0m\u001b[1;33m]\u001b[0m \u001b[1;33m=\u001b[0m \u001b[0mself\u001b[0m\u001b[1;33m.\u001b[0m\u001b[0m_id\u001b[0m\u001b[1;33m\u001b[0m\u001b[1;33m\u001b[0m\u001b[0m\n\u001b[1;32m--> 396\u001b[1;33m         \u001b[1;32mreturn\u001b[0m \u001b[0mself\u001b[0m\u001b[1;33m.\u001b[0m\u001b[0m_parent\u001b[0m\u001b[1;33m.\u001b[0m\u001b[0mexecute\u001b[0m\u001b[1;33m(\u001b[0m\u001b[0mcommand\u001b[0m\u001b[1;33m,\u001b[0m \u001b[0mparams\u001b[0m\u001b[1;33m)\u001b[0m\u001b[1;33m\u001b[0m\u001b[1;33m\u001b[0m\u001b[0m\n\u001b[0m\u001b[0;32m    397\u001b[0m \u001b[1;33m\u001b[0m\u001b[0m\n\u001b[0;32m    398\u001b[0m     \u001b[1;32mdef\u001b[0m \u001b[0mfind_element\u001b[0m\u001b[1;33m(\u001b[0m\u001b[0mself\u001b[0m\u001b[1;33m,\u001b[0m \u001b[0mby\u001b[0m\u001b[1;33m=\u001b[0m\u001b[0mBy\u001b[0m\u001b[1;33m.\u001b[0m\u001b[0mID\u001b[0m\u001b[1;33m,\u001b[0m \u001b[0mvalue\u001b[0m\u001b[1;33m=\u001b[0m\u001b[1;32mNone\u001b[0m\u001b[1;33m)\u001b[0m \u001b[1;33m->\u001b[0m \u001b[0mWebElement\u001b[0m\u001b[1;33m:\u001b[0m\u001b[1;33m\u001b[0m\u001b[1;33m\u001b[0m\u001b[0m\n",
      "\u001b[1;32m~\\anaconda3\\lib\\site-packages\\selenium\\webdriver\\remote\\webdriver.py\u001b[0m in \u001b[0;36mexecute\u001b[1;34m(self, driver_command, params)\u001b[0m\n\u001b[0;32m    427\u001b[0m         \u001b[0mresponse\u001b[0m \u001b[1;33m=\u001b[0m \u001b[0mself\u001b[0m\u001b[1;33m.\u001b[0m\u001b[0mcommand_executor\u001b[0m\u001b[1;33m.\u001b[0m\u001b[0mexecute\u001b[0m\u001b[1;33m(\u001b[0m\u001b[0mdriver_command\u001b[0m\u001b[1;33m,\u001b[0m \u001b[0mparams\u001b[0m\u001b[1;33m)\u001b[0m\u001b[1;33m\u001b[0m\u001b[1;33m\u001b[0m\u001b[0m\n\u001b[0;32m    428\u001b[0m         \u001b[1;32mif\u001b[0m \u001b[0mresponse\u001b[0m\u001b[1;33m:\u001b[0m\u001b[1;33m\u001b[0m\u001b[1;33m\u001b[0m\u001b[0m\n\u001b[1;32m--> 429\u001b[1;33m             \u001b[0mself\u001b[0m\u001b[1;33m.\u001b[0m\u001b[0merror_handler\u001b[0m\u001b[1;33m.\u001b[0m\u001b[0mcheck_response\u001b[0m\u001b[1;33m(\u001b[0m\u001b[0mresponse\u001b[0m\u001b[1;33m)\u001b[0m\u001b[1;33m\u001b[0m\u001b[1;33m\u001b[0m\u001b[0m\n\u001b[0m\u001b[0;32m    430\u001b[0m             response['value'] = self._unwrap_value(\n\u001b[0;32m    431\u001b[0m                 response.get('value', None))\n",
      "\u001b[1;32m~\\anaconda3\\lib\\site-packages\\selenium\\webdriver\\remote\\errorhandler.py\u001b[0m in \u001b[0;36mcheck_response\u001b[1;34m(self, response)\u001b[0m\n\u001b[0;32m    241\u001b[0m                 \u001b[0malert_text\u001b[0m \u001b[1;33m=\u001b[0m \u001b[0mvalue\u001b[0m\u001b[1;33m[\u001b[0m\u001b[1;34m'alert'\u001b[0m\u001b[1;33m]\u001b[0m\u001b[1;33m.\u001b[0m\u001b[0mget\u001b[0m\u001b[1;33m(\u001b[0m\u001b[1;34m'text'\u001b[0m\u001b[1;33m)\u001b[0m\u001b[1;33m\u001b[0m\u001b[1;33m\u001b[0m\u001b[0m\n\u001b[0;32m    242\u001b[0m             \u001b[1;32mraise\u001b[0m \u001b[0mexception_class\u001b[0m\u001b[1;33m(\u001b[0m\u001b[0mmessage\u001b[0m\u001b[1;33m,\u001b[0m \u001b[0mscreen\u001b[0m\u001b[1;33m,\u001b[0m \u001b[0mstacktrace\u001b[0m\u001b[1;33m,\u001b[0m \u001b[0malert_text\u001b[0m\u001b[1;33m)\u001b[0m  \u001b[1;31m# type: ignore[call-arg]  # mypy is not smart enough here\u001b[0m\u001b[1;33m\u001b[0m\u001b[1;33m\u001b[0m\u001b[0m\n\u001b[1;32m--> 243\u001b[1;33m         \u001b[1;32mraise\u001b[0m \u001b[0mexception_class\u001b[0m\u001b[1;33m(\u001b[0m\u001b[0mmessage\u001b[0m\u001b[1;33m,\u001b[0m \u001b[0mscreen\u001b[0m\u001b[1;33m,\u001b[0m \u001b[0mstacktrace\u001b[0m\u001b[1;33m)\u001b[0m\u001b[1;33m\u001b[0m\u001b[1;33m\u001b[0m\u001b[0m\n\u001b[0m",
      "\u001b[1;31mElementNotInteractableException\u001b[0m: Message: element not interactable\n  (Session info: chrome=106.0.5249.62)\nStacktrace:\nBacktrace:\n\tOrdinal0 [0x00B41ED3+2236115]\n\tOrdinal0 [0x00AD92F1+1807089]\n\tOrdinal0 [0x009E65C0+812480]\n\tOrdinal0 [0x00A16586+1009030]\n\tOrdinal0 [0x00A0C416+967702]\n\tOrdinal0 [0x00A31A8C+1120908]\n\tOrdinal0 [0x00A0BD84+966020]\n\tOrdinal0 [0x00A31CA4+1121444]\n\tOrdinal0 [0x00A459E2+1202658]\n\tOrdinal0 [0x00A318A6+1120422]\n\tOrdinal0 [0x00A0A73D+960317]\n\tOrdinal0 [0x00A0B71F+964383]\n\tGetHandleVerifier [0x00DEE7E2+2743074]\n\tGetHandleVerifier [0x00DE08D4+2685972]\n\tGetHandleVerifier [0x00BD2BAA+532202]\n\tGetHandleVerifier [0x00BD1990+527568]\n\tOrdinal0 [0x00AE080C+1837068]\n\tOrdinal0 [0x00AE4CD8+1854680]\n\tOrdinal0 [0x00AE4DC5+1854917]\n\tOrdinal0 [0x00AEED64+1895780]\n\tBaseThreadInitThunk [0x7522FA29+25]\n\tRtlGetAppContainerNamedObjectPath [0x77027B5E+286]\n\tRtlGetAppContainerNamedObjectPath [0x77027B2E+238]\n"
     ]
    }
   ],
   "source": [
    "driver = webdriver.Chrome(r\"C:\\Users\\Novendri Isra Asriny\\.wdm\\drivers\\chromedriver\\win32\\106.0.5249\\chromedriver.exe\")\n",
    "url = 'https://www.google.com/maps/place/Hartono+Mall/@-7.759723,110.3967886,17z/data=!4m5!3m4!1s0x2e7a59a17e4e49eb:0xa864a4f7fe95e090!8m2!3d-7.759723!4d110.3989719'\n",
    "driver.get(url) \n",
    "driver.find_element(By.XPATH,'//*[@id=\"QA0Szd\"]/div/div/div[1]/div[2]/div/div[1]/div/div/div[60]/div/button/span').click()"
   ]
  },
  {
   "cell_type": "code",
   "execution_count": 5,
   "metadata": {},
   "outputs": [],
   "source": [
    "#Sort the newest review\n",
    "driver.find_element(By.XPATH,'//*[@id=\"QA0Szd\"]/div/div/div[1]/div[2]/div/div[1]/div/div/div[2]/div[7]/div[2]/button').click()\n",
    "\n",
    "time.sleep(1)\n",
    "\n",
    "driver.find_element(By.XPATH,\"//li[@data-index='1']\").click()\n",
    "\n",
    "time.sleep(5)"
   ]
  },
  {
   "cell_type": "code",
   "execution_count": 6,
   "metadata": {},
   "outputs": [
    {
     "name": "stdout",
     "output_type": "stream",
     "text": [
      "last height: 897\n",
      "new height: 2151\n",
      "cont\n",
      "last height: 2151\n",
      "new height: 3687\n",
      "cont\n",
      "last height: 3687\n",
      "new height: 3687\n"
     ]
    }
   ],
   "source": [
    "SCROLL_PAUSE_TIME = 5\n",
    "\n",
    "# Get scroll height\n",
    "last_height = driver.execute_script(\"return document.body.scrollHeight\")\n",
    "\n",
    "number = 0\n",
    "\n",
    "while True:\n",
    "    number = number+1\n",
    "\n",
    "    # Scroll down to bottom\n",
    "    \n",
    "    ele = driver.find_element(By.XPATH,'//*[@id=\"QA0Szd\"]/div/div/div[1]/div[2]/div/div[1]/div/div/div[2]')\n",
    "    driver.execute_script('arguments[0].scrollBy(0, 5000);', ele)\n",
    "\n",
    "    # Wait to load page\n",
    "\n",
    "    time.sleep(SCROLL_PAUSE_TIME)\n",
    "\n",
    "    # Calculate new scroll height and compare with last scroll height\n",
    "    print(f'last height: {last_height}')\n",
    "\n",
    "    ele = driver.find_element(By.XPATH,'//*[@id=\"QA0Szd\"]/div/div/div[1]/div[2]/div/div[1]/div/div/div[2]')\n",
    "\n",
    "    new_height = driver.execute_script(\"return arguments[0].scrollHeight\", ele)\n",
    "\n",
    "    print(f'new height: {new_height}')\n",
    "\n",
    "    if number == 5:\n",
    "        break\n",
    "\n",
    "    if new_height == last_height:\n",
    "        break\n",
    "\n",
    "    print('cont')\n",
    "    last_height = new_height"
   ]
  },
  {
   "cell_type": "code",
   "execution_count": 7,
   "metadata": {},
   "outputs": [],
   "source": [
    "#Open More Button\n",
    "item = driver.find_elements(By.XPATH,'//*[@id=\"QA0Szd\"]/div/div/div[1]/div[2]/div/div[1]/div/div/div[2]/div[9]')\n",
    "\n",
    "time.sleep(3)"
   ]
  },
  {
   "cell_type": "code",
   "execution_count": 8,
   "metadata": {},
   "outputs": [],
   "source": [
    "name_list = []\n",
    "stars_list = []\n",
    "review_list = []\n",
    "duration_list = []"
   ]
  },
  {
   "cell_type": "code",
   "execution_count": 9,
   "metadata": {},
   "outputs": [],
   "source": [
    "for i in item:\n",
    "\n",
    "    button = i.find_elements(By.TAG_NAME,'button')\n",
    "    for m in button:\n",
    "        if m.text == \"More\":\n",
    "            m.click()\n",
    "    time.sleep(5)\n",
    "\n",
    "    name = i.find_elements(By.CLASS_NAME,\"d4r55\")\n",
    "    stars = i.find_elements(By.CLASS_NAME,\"kvMYJc\")\n",
    "    review = i.find_elements(By.CLASS_NAME,\"wiI7pd\")\n",
    "    duration = i.find_elements(By.CLASS_NAME,\"rsqaWe\")\n",
    "\n",
    "    for j,k,l,p in zip(name,stars,review,duration):\n",
    "        name_list.append(j.text)\n",
    "        stars_list.append(p.text)\n",
    "        review_list.append(k.get_attribute(\"aria-label\"))\n",
    "        duration_list.append(l.text)"
   ]
  },
  {
   "cell_type": "code",
   "execution_count": 10,
   "metadata": {},
   "outputs": [
    {
     "name": "stdout",
     "output_type": "stream",
     "text": [
      "                                 name       rating       review  \\\n",
      "0                           Franky Ng   7 jam lalu   5 bintang    \n",
      "1                              Warlok   8 jam lalu   5 bintang    \n",
      "2                       Maisie Olivia  10 jam lalu   5 bintang    \n",
      "3                     ipnu Suprastowo  10 jam lalu   5 bintang    \n",
      "4                        Yari Suganda  10 jam lalu   5 bintang    \n",
      "5                       Yudi Iriyanto  12 jam lalu   5 bintang    \n",
      "6            Ariyudha Nur Fikri Yahya  12 jam lalu   5 bintang    \n",
      "7        CB SOUND SYSTEM RENTAL JOGJA  13 jam lalu   5 bintang    \n",
      "8                         Azmi Nurdin  18 jam lalu   4 bintang    \n",
      "9                          DARU nDARU  19 jam lalu   5 bintang    \n",
      "10                                Yui  23 jam lalu   5 bintang    \n",
      "11                       stories_line  1 hari lalu   5 bintang    \n",
      "12                  Titis ayu winarni  1 hari lalu   5 bintang    \n",
      "13                 ibrahim hane Idrus  1 hari lalu   5 bintang    \n",
      "14                     fadel muhammad  1 hari lalu   4 bintang    \n",
      "15                        rahmad Jati  2 hari lalu   5 bintang    \n",
      "16                        badai topan  2 hari lalu   5 bintang    \n",
      "17                       Natasya Eska  2 hari lalu   3 bintang    \n",
      "18                              Uneee  2 hari lalu   4 bintang    \n",
      "19                       agus bahagia  2 hari lalu   4 bintang    \n",
      "20                  Lutfianis Yudanti  2 hari lalu   5 bintang    \n",
      "21                       Tonny Wibowo  2 hari lalu   5 bintang    \n",
      "22                   Harditya Pragola  2 hari lalu   5 bintang    \n",
      "23                    Rori Prihantoro  2 hari lalu   5 bintang    \n",
      "24                     stefanus wisnu  2 hari lalu   5 bintang    \n",
      "25                      Marsudi Wahyu  2 hari lalu   5 bintang    \n",
      "26                  Ahmad Raviuddin20  2 hari lalu   5 bintang    \n",
      "27                         sugi yatno  2 hari lalu   5 bintang    \n",
      "28                     Farizqun Karim  3 hari lalu   5 bintang    \n",
      "29                 Rio Satria Nugraha  3 hari lalu   5 bintang    \n",
      "30           joan marendra Dwicahyana  3 hari lalu   5 bintang    \n",
      "31                       Raka Anindya  3 hari lalu   5 bintang    \n",
      "32                        Yushop Gaul  3 hari lalu   5 bintang    \n",
      "33                  Fina_official 011  3 hari lalu   5 bintang    \n",
      "34                              Nor H  3 hari lalu   5 bintang    \n",
      "35                       Siswanta Msi  3 hari lalu   5 bintang    \n",
      "36                         Refa Sweda  3 hari lalu   5 bintang    \n",
      "37            Stefanus Fendy Soesanto  3 hari lalu   5 bintang    \n",
      "38  Jogjahealingtour Sewa mobil jogja  4 hari lalu   5 bintang    \n",
      "39                     Arief Pangestu  4 hari lalu   5 bintang    \n",
      "\n",
      "                                             duration  \n",
      "0                                                      \n",
      "1             Makin lengkap, nyaman dan parkiran luas  \n",
      "2                                                      \n",
      "3                                          Mall besar  \n",
      "4                                                      \n",
      "5           Mantap\\nKemarin bersama kesayangan disitu  \n",
      "6                                                      \n",
      "7                                                      \n",
      "8                                                      \n",
      "9                                                      \n",
      "10                                                     \n",
      "11  Hartono mall jogja. Mall nya buesarr bangettt....  \n",
      "12                Namanya udah ganti jadi PAKUWON Mal  \n",
      "13                                                     \n",
      "14                                                     \n",
      "15                                                     \n",
      "16                                                     \n",
      "17                                                     \n",
      "18                                                     \n",
      "19                                                     \n",
      "20                                                     \n",
      "21                                                     \n",
      "22                                                     \n",
      "23                                                     \n",
      "24                                                     \n",
      "25  Nyaman buat belanja barang dan kebutuhan kanto...  \n",
      "26                                         Luar biasa  \n",
      "27               Mall yang ramai dan padat pengunjung  \n",
      "28                   Wah akhirnya jalan jalan di mall  \n",
      "29                             Mall hartono yang luas  \n",
      "30                                                     \n",
      "31                                                     \n",
      "32                                                     \n",
      "33      Enk mall nya apalagi srkarang lebih bagus....  \n",
      "34            AC dingin, tersedia mushola dan masjid,  \n",
      "35                              Terintegrasi dg hotel  \n",
      "36  Mall yg sekarang menjadi pakuwon,mall terbesar...  \n",
      "37  (Diterjemahkan oleh Google) tempat yang bagus ...  \n",
      "38  (Diterjemahkan oleh Google) Adem baik\\n\\n(Asli...  \n",
      "39                                                     \n"
     ]
    }
   ],
   "source": [
    "review = pd.DataFrame(\n",
    "    {'name': name_list,\n",
    "     'rating': stars_list,\n",
    "     'review': review_list,\n",
    "     'duration': duration_list})\n",
    "\n",
    "review.to_csv('google_review.csv',index=False)\n",
    "print(review)"
   ]
  },
  {
   "cell_type": "code",
   "execution_count": null,
   "metadata": {},
   "outputs": [],
   "source": [
    "#BREAK SESSION#"
   ]
  }
 ],
 "metadata": {
  "kernelspec": {
   "display_name": "Python 3",
   "language": "python",
   "name": "python3"
  },
  "language_info": {
   "codemirror_mode": {
    "name": "ipython",
    "version": 3
   },
   "file_extension": ".py",
   "mimetype": "text/x-python",
   "name": "python",
   "nbconvert_exporter": "python",
   "pygments_lexer": "ipython3",
   "version": "3.8.5"
  }
 },
 "nbformat": 4,
 "nbformat_minor": 4
}
