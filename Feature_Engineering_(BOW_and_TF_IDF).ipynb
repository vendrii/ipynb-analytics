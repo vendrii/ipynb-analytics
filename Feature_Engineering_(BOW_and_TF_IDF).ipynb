{
  "nbformat": 4,
  "nbformat_minor": 0,
  "metadata": {
    "colab": {
      "provenance": []
    },
    "kernelspec": {
      "name": "python3",
      "display_name": "Python 3"
    },
    "language_info": {
      "name": "python"
    }
  },
  "cells": [
    {
      "cell_type": "markdown",
      "source": [
        "#Text Visualization Section 1\n",
        "## Bow"
      ],
      "metadata": {
        "id": "tU1icCHW-ayR"
      }
    },
    {
      "cell_type": "code",
      "execution_count": 30,
      "metadata": {
        "colab": {
          "base_uri": "https://localhost:8080/"
        },
        "id": "DFj-cPiE1WQP",
        "outputId": "bc9cf1f5-f0cd-4a63-859a-a25e63b9d091"
      },
      "outputs": [
        {
          "output_type": "stream",
          "name": "stderr",
          "text": [
            "[nltk_data] Downloading package punkt to /root/nltk_data...\n",
            "[nltk_data]   Package punkt is already up-to-date!\n"
          ]
        }
      ],
      "source": [
        "#Load module\n",
        "import nltk\n",
        "nltk.download('punkt')\n",
        "import re"
      ]
    },
    {
      "cell_type": "code",
      "source": [
        "paragraph = \"\"\"Thank you, thank you all so very much. Thank you to the Academy, thank you to all of you in this room. I have to congratulate the other incredible nominees this year for their unbelievable performances. The Revenant was a product of the tireless efforts of an unbelievable cast and crew I got to work alongside. First off to my brother in this endeavor, Mr. Tom Hardy. Tom, your fierce talent on screen can only be surpassed by your friendship off screen.To Mr. Alejandro Iñárritu, as the history of cinema unfolds, you have forged your way into history these past two years. What an unbelievable talent you are, thank you to you and Chivo for creating a transcendent cinematic experience for all of us. Thank you to everyone from Fox and New Regency, in particular Arnon Milchan, you are the champion of this endeavor. My entire team. I have to thank everyone from the very onset of my career, Mr. Caton Jones for casting me in my first film. Mr. Scorsese for teaching me so much about the cinematic art form. To Mr. Rick Yorn, thank you for helping me navigate my way through this industry. And to my parents none of this would be possible without you. And to my friends I love you dearly you know who you are.And lastly I just want to say this. Making The Revenant was about man's relationship to the natural world. A world that we collectively felt in 2015 as the hottest year in recorded history. Our production needed to move to the southern tip of this planet just to be able to find snow. Climate change is real, it is happening right now. It is the most urgent threat facing our entire species and we need to work collectively together and stop procrastinating. We need to support leaders around the world who do not speak for the big polluters or the big corporations, but who speak for all of humanity for the indigenous people of the world. For the billions and billions of underprivileged people who will be most affected by this. For our children's' children. And for those people out there whose voices have been drowned out by the politics of greed.I thank you all for this amazing award tonight. Let us not take this planet for granted. I do not take tonight for granted. Thank you so very much.\"\"\""
      ],
      "metadata": {
        "id": "8a7IIiKu2a-f"
      },
      "execution_count": 31,
      "outputs": []
    },
    {
      "cell_type": "code",
      "source": [
        "#Load dataset\n",
        "dataset = nltk.sent_tokenize(paragraph)"
      ],
      "metadata": {
        "id": "lwk_wRbQ1riS"
      },
      "execution_count": 32,
      "outputs": []
    },
    {
      "cell_type": "code",
      "source": [
        "dataset"
      ],
      "metadata": {
        "colab": {
          "base_uri": "https://localhost:8080/"
        },
        "id": "O_51_2A617df",
        "outputId": "bd444554-27fc-48f3-ce23-72e495d5d388"
      },
      "execution_count": 15,
      "outputs": [
        {
          "output_type": "execute_result",
          "data": {
            "text/plain": [
              "['Thank you, thank you all so very much.',\n",
              " 'Thank you to the Academy, thank you to all of you in this room.',\n",
              " 'I have to congratulate the other incredible nominees this year for their unbelievable performances.',\n",
              " 'The Revenant was a product of the tireless efforts of an unbelievable cast and crew I got to work alongside.',\n",
              " 'First off to my brother in this endeavor, Mr. Tom Hardy.',\n",
              " 'Tom, your fierce talent on screen can only be surpassed by your friendship off screen.To Mr. Alejandro Iñárritu, as the history of cinema unfolds, you have forged your way into history these past two years.',\n",
              " 'What an unbelievable talent you are, thank you to you and Chivo for creating a transcendent cinematic experience for all of us.',\n",
              " 'Thank you to everyone from Fox and New Regency, in particular Arnon Milchan, you are the champion of this endeavor.',\n",
              " 'My entire team.',\n",
              " 'I have to thank everyone from the very onset of my career, Mr. Caton Jones for casting me in my first film.',\n",
              " 'Mr. Scorsese for teaching me so much about the cinematic art form.',\n",
              " 'To Mr. Rick Yorn, thank you for helping me navigate my way through this industry.',\n",
              " 'And to my parents none of this would be possible without you.',\n",
              " 'And to my friends I love you dearly you know who you are.And lastly I just want to say this.',\n",
              " \"Making The Revenant was about man's relationship to the natural world.\",\n",
              " 'A world that we collectively felt in 2015 as the hottest year in recorded history.',\n",
              " 'Our production needed to move to the southern tip of this planet just to be able to find snow.',\n",
              " 'Climate change is real, it is happening right now.',\n",
              " 'It is the most urgent threat facing our entire species and we need to work collectively together and stop procrastinating.',\n",
              " 'We need to support leaders around the world who do not speak for the big polluters or the big corporations, but who speak for all of humanity for the indigenous people of the world.',\n",
              " 'For the billions and billions of underprivileged people who will be most affected by this.',\n",
              " \"For our children's' children.\",\n",
              " 'And for those people out there whose voices have been drowned out by the politics of greed.I thank you all for this amazing award tonight.',\n",
              " 'Let us not take this planet for granted.',\n",
              " 'I do not take tonight for granted.',\n",
              " 'Thank you so very much.']"
            ]
          },
          "metadata": {},
          "execution_count": 15
        }
      ]
    },
    {
      "cell_type": "code",
      "source": [
        "#Lowering text, removing punckt(.)\n",
        "for i in range(len(dataset)):\n",
        "  dataset[i] = dataset[i].lower()\n",
        "  dataset[i] = re.sub(r'\\W',' ',dataset[i])\n",
        "  dataset[i] = re.sub(r'\\s+',' ',dataset[i])"
      ],
      "metadata": {
        "id": "TfcaX0wV2ymh"
      },
      "execution_count": 33,
      "outputs": []
    },
    {
      "cell_type": "code",
      "source": [
        "#checking after substitute\n",
        "dataset"
      ],
      "metadata": {
        "colab": {
          "base_uri": "https://localhost:8080/"
        },
        "id": "n4lGYDHy3cye",
        "outputId": "0ddcd070-5bfe-4fac-c9cf-f67863eb9fc1"
      },
      "execution_count": 34,
      "outputs": [
        {
          "output_type": "execute_result",
          "data": {
            "text/plain": [
              "['thank you thank you all so very much ',\n",
              " 'thank you to the academy thank you to all of you in this room ',\n",
              " 'i have to congratulate the other incredible nominees this year for their unbelievable performances ',\n",
              " 'the revenant was a product of the tireless efforts of an unbelievable cast and crew i got to work alongside ',\n",
              " 'first off to my brother in this endeavor mr tom hardy ',\n",
              " 'tom your fierce talent on screen can only be surpassed by your friendship off screen to mr alejandro iñárritu as the history of cinema unfolds you have forged your way into history these past two years ',\n",
              " 'what an unbelievable talent you are thank you to you and chivo for creating a transcendent cinematic experience for all of us ',\n",
              " 'thank you to everyone from fox and new regency in particular arnon milchan you are the champion of this endeavor ',\n",
              " 'my entire team ',\n",
              " 'i have to thank everyone from the very onset of my career mr caton jones for casting me in my first film ',\n",
              " 'mr scorsese for teaching me so much about the cinematic art form ',\n",
              " 'to mr rick yorn thank you for helping me navigate my way through this industry ',\n",
              " 'and to my parents none of this would be possible without you ',\n",
              " 'and to my friends i love you dearly you know who you are and lastly i just want to say this ',\n",
              " 'making the revenant was about man s relationship to the natural world ',\n",
              " 'a world that we collectively felt in 2015 as the hottest year in recorded history ',\n",
              " 'our production needed to move to the southern tip of this planet just to be able to find snow ',\n",
              " 'climate change is real it is happening right now ',\n",
              " 'it is the most urgent threat facing our entire species and we need to work collectively together and stop procrastinating ',\n",
              " 'we need to support leaders around the world who do not speak for the big polluters or the big corporations but who speak for all of humanity for the indigenous people of the world ',\n",
              " 'for the billions and billions of underprivileged people who will be most affected by this ',\n",
              " 'for our children s children ',\n",
              " 'and for those people out there whose voices have been drowned out by the politics of greed i thank you all for this amazing award tonight ',\n",
              " 'let us not take this planet for granted ',\n",
              " 'i do not take tonight for granted ',\n",
              " 'thank you so very much ']"
            ]
          },
          "metadata": {},
          "execution_count": 34
        }
      ]
    },
    {
      "cell_type": "code",
      "source": [
        "#Creating the histogram to get freq of the words\n",
        "word2count = {}\n",
        "for data in dataset:\n",
        "  words = nltk.word_tokenize(data) #tokenize the dataset\n",
        "  for word in words:\n",
        "    if word not in word2count.keys(): #if this words is not in dictionary word2count then count 1\n",
        "        word2count[word] = 1\n",
        "    else:\n",
        "        word2count[word] += 1 #if already in the dictionary then increase the count"
      ],
      "metadata": {
        "id": "Dl-gkB733tVQ"
      },
      "execution_count": 35,
      "outputs": []
    },
    {
      "cell_type": "code",
      "source": [
        "#checking the result\n",
        "word2count"
      ],
      "metadata": {
        "colab": {
          "base_uri": "https://localhost:8080/"
        },
        "id": "QRLM6ZDl5Gmv",
        "outputId": "3d6a142d-bf79-4f5d-9d13-2799fadc935a"
      },
      "execution_count": 36,
      "outputs": [
        {
          "output_type": "execute_result",
          "data": {
            "text/plain": [
              "{'thank': 10,\n",
              " 'you': 18,\n",
              " 'all': 5,\n",
              " 'so': 3,\n",
              " 'very': 3,\n",
              " 'much': 3,\n",
              " 'to': 20,\n",
              " 'the': 20,\n",
              " 'academy': 1,\n",
              " 'of': 13,\n",
              " 'in': 6,\n",
              " 'this': 11,\n",
              " 'room': 1,\n",
              " 'i': 7,\n",
              " 'have': 4,\n",
              " 'congratulate': 1,\n",
              " 'other': 1,\n",
              " 'incredible': 1,\n",
              " 'nominees': 1,\n",
              " 'year': 2,\n",
              " 'for': 15,\n",
              " 'their': 1,\n",
              " 'unbelievable': 3,\n",
              " 'performances': 1,\n",
              " 'revenant': 2,\n",
              " 'was': 2,\n",
              " 'a': 3,\n",
              " 'product': 1,\n",
              " 'tireless': 1,\n",
              " 'efforts': 1,\n",
              " 'an': 2,\n",
              " 'cast': 1,\n",
              " 'and': 10,\n",
              " 'crew': 1,\n",
              " 'got': 1,\n",
              " 'work': 2,\n",
              " 'alongside': 1,\n",
              " 'first': 2,\n",
              " 'off': 2,\n",
              " 'my': 7,\n",
              " 'brother': 1,\n",
              " 'endeavor': 2,\n",
              " 'mr': 5,\n",
              " 'tom': 2,\n",
              " 'hardy': 1,\n",
              " 'your': 3,\n",
              " 'fierce': 1,\n",
              " 'talent': 2,\n",
              " 'on': 1,\n",
              " 'screen': 2,\n",
              " 'can': 1,\n",
              " 'only': 1,\n",
              " 'be': 4,\n",
              " 'surpassed': 1,\n",
              " 'by': 3,\n",
              " 'friendship': 1,\n",
              " 'alejandro': 1,\n",
              " 'iñárritu': 1,\n",
              " 'as': 2,\n",
              " 'history': 3,\n",
              " 'cinema': 1,\n",
              " 'unfolds': 1,\n",
              " 'forged': 1,\n",
              " 'way': 2,\n",
              " 'into': 1,\n",
              " 'these': 1,\n",
              " 'past': 1,\n",
              " 'two': 1,\n",
              " 'years': 1,\n",
              " 'what': 1,\n",
              " 'are': 3,\n",
              " 'chivo': 1,\n",
              " 'creating': 1,\n",
              " 'transcendent': 1,\n",
              " 'cinematic': 2,\n",
              " 'experience': 1,\n",
              " 'us': 2,\n",
              " 'everyone': 2,\n",
              " 'from': 2,\n",
              " 'fox': 1,\n",
              " 'new': 1,\n",
              " 'regency': 1,\n",
              " 'particular': 1,\n",
              " 'arnon': 1,\n",
              " 'milchan': 1,\n",
              " 'champion': 1,\n",
              " 'entire': 2,\n",
              " 'team': 1,\n",
              " 'onset': 1,\n",
              " 'career': 1,\n",
              " 'caton': 1,\n",
              " 'jones': 1,\n",
              " 'casting': 1,\n",
              " 'me': 3,\n",
              " 'film': 1,\n",
              " 'scorsese': 1,\n",
              " 'teaching': 1,\n",
              " 'about': 2,\n",
              " 'art': 1,\n",
              " 'form': 1,\n",
              " 'rick': 1,\n",
              " 'yorn': 1,\n",
              " 'helping': 1,\n",
              " 'navigate': 1,\n",
              " 'through': 1,\n",
              " 'industry': 1,\n",
              " 'parents': 1,\n",
              " 'none': 1,\n",
              " 'would': 1,\n",
              " 'possible': 1,\n",
              " 'without': 1,\n",
              " 'friends': 1,\n",
              " 'love': 1,\n",
              " 'dearly': 1,\n",
              " 'know': 1,\n",
              " 'who': 4,\n",
              " 'lastly': 1,\n",
              " 'just': 2,\n",
              " 'want': 1,\n",
              " 'say': 1,\n",
              " 'making': 1,\n",
              " 'man': 1,\n",
              " 's': 2,\n",
              " 'relationship': 1,\n",
              " 'natural': 1,\n",
              " 'world': 4,\n",
              " 'that': 1,\n",
              " 'we': 3,\n",
              " 'collectively': 2,\n",
              " 'felt': 1,\n",
              " '2015': 1,\n",
              " 'hottest': 1,\n",
              " 'recorded': 1,\n",
              " 'our': 3,\n",
              " 'production': 1,\n",
              " 'needed': 1,\n",
              " 'move': 1,\n",
              " 'southern': 1,\n",
              " 'tip': 1,\n",
              " 'planet': 2,\n",
              " 'able': 1,\n",
              " 'find': 1,\n",
              " 'snow': 1,\n",
              " 'climate': 1,\n",
              " 'change': 1,\n",
              " 'is': 3,\n",
              " 'real': 1,\n",
              " 'it': 2,\n",
              " 'happening': 1,\n",
              " 'right': 1,\n",
              " 'now': 1,\n",
              " 'most': 2,\n",
              " 'urgent': 1,\n",
              " 'threat': 1,\n",
              " 'facing': 1,\n",
              " 'species': 1,\n",
              " 'need': 2,\n",
              " 'together': 1,\n",
              " 'stop': 1,\n",
              " 'procrastinating': 1,\n",
              " 'support': 1,\n",
              " 'leaders': 1,\n",
              " 'around': 1,\n",
              " 'do': 2,\n",
              " 'not': 3,\n",
              " 'speak': 2,\n",
              " 'big': 2,\n",
              " 'polluters': 1,\n",
              " 'or': 1,\n",
              " 'corporations': 1,\n",
              " 'but': 1,\n",
              " 'humanity': 1,\n",
              " 'indigenous': 1,\n",
              " 'people': 3,\n",
              " 'billions': 2,\n",
              " 'underprivileged': 1,\n",
              " 'will': 1,\n",
              " 'affected': 1,\n",
              " 'children': 2,\n",
              " 'those': 1,\n",
              " 'out': 2,\n",
              " 'there': 1,\n",
              " 'whose': 1,\n",
              " 'voices': 1,\n",
              " 'been': 1,\n",
              " 'drowned': 1,\n",
              " 'politics': 1,\n",
              " 'greed': 1,\n",
              " 'amazing': 1,\n",
              " 'award': 1,\n",
              " 'tonight': 2,\n",
              " 'let': 1,\n",
              " 'take': 2,\n",
              " 'granted': 2}"
            ]
          },
          "metadata": {},
          "execution_count": 36
        }
      ]
    },
    {
      "cell_type": "code",
      "source": [
        "import heapq # to find in the largest most frequent all dictionary\n",
        "freq_words = heapq.nlargest(100, word2count, key=word2count.get)\n",
        "freq_words"
      ],
      "metadata": {
        "colab": {
          "base_uri": "https://localhost:8080/"
        },
        "id": "NoG3hG4C5MUY",
        "outputId": "d676613e-4d88-40dc-c157-38fdfdc254e7"
      },
      "execution_count": 37,
      "outputs": [
        {
          "output_type": "execute_result",
          "data": {
            "text/plain": [
              "['to',\n",
              " 'the',\n",
              " 'you',\n",
              " 'for',\n",
              " 'of',\n",
              " 'this',\n",
              " 'thank',\n",
              " 'and',\n",
              " 'i',\n",
              " 'my',\n",
              " 'in',\n",
              " 'all',\n",
              " 'mr',\n",
              " 'have',\n",
              " 'be',\n",
              " 'who',\n",
              " 'world',\n",
              " 'so',\n",
              " 'very',\n",
              " 'much',\n",
              " 'unbelievable',\n",
              " 'a',\n",
              " 'your',\n",
              " 'by',\n",
              " 'history',\n",
              " 'are',\n",
              " 'me',\n",
              " 'we',\n",
              " 'our',\n",
              " 'is',\n",
              " 'not',\n",
              " 'people',\n",
              " 'year',\n",
              " 'revenant',\n",
              " 'was',\n",
              " 'an',\n",
              " 'work',\n",
              " 'first',\n",
              " 'off',\n",
              " 'endeavor',\n",
              " 'tom',\n",
              " 'talent',\n",
              " 'screen',\n",
              " 'as',\n",
              " 'way',\n",
              " 'cinematic',\n",
              " 'us',\n",
              " 'everyone',\n",
              " 'from',\n",
              " 'entire',\n",
              " 'about',\n",
              " 'just',\n",
              " 's',\n",
              " 'collectively',\n",
              " 'planet',\n",
              " 'it',\n",
              " 'most',\n",
              " 'need',\n",
              " 'do',\n",
              " 'speak',\n",
              " 'big',\n",
              " 'billions',\n",
              " 'children',\n",
              " 'out',\n",
              " 'tonight',\n",
              " 'take',\n",
              " 'granted',\n",
              " 'academy',\n",
              " 'room',\n",
              " 'congratulate',\n",
              " 'other',\n",
              " 'incredible',\n",
              " 'nominees',\n",
              " 'their',\n",
              " 'performances',\n",
              " 'product',\n",
              " 'tireless',\n",
              " 'efforts',\n",
              " 'cast',\n",
              " 'crew',\n",
              " 'got',\n",
              " 'alongside',\n",
              " 'brother',\n",
              " 'hardy',\n",
              " 'fierce',\n",
              " 'on',\n",
              " 'can',\n",
              " 'only',\n",
              " 'surpassed',\n",
              " 'friendship',\n",
              " 'alejandro',\n",
              " 'iñárritu',\n",
              " 'cinema',\n",
              " 'unfolds',\n",
              " 'forged',\n",
              " 'into',\n",
              " 'these',\n",
              " 'past',\n",
              " 'two',\n",
              " 'years']"
            ]
          },
          "metadata": {},
          "execution_count": 37
        }
      ]
    },
    {
      "cell_type": "code",
      "source": [
        "# Create whole BOW\n",
        "X = [] #empty list -> if words not include in dictionary then 0\n",
        "for data in dataset:\n",
        "  vector = []\n",
        "  for word in freq_words:\n",
        "    if word in nltk.word_tokenize(data): #tokenize whole document into words\n",
        "      vector.append(1) #vector for attend it into X\n",
        "    else:\n",
        "      vector.append(0) \n",
        "\n",
        "#convert the X vector into array\n",
        "import numpy as np\n",
        "X = np.asarray(X)"
      ],
      "metadata": {
        "id": "JuhyhXZE64V9"
      },
      "execution_count": 38,
      "outputs": []
    },
    {
      "cell_type": "markdown",
      "source": [
        "# Text Visualization Section 2\n",
        "## Bag of Words -> TF-IDF"
      ],
      "metadata": {
        "id": "kFfiMLWS9bVC"
      }
    },
    {
      "cell_type": "code",
      "source": [
        "paragraph = \"\"\"Thank you, thank you all so very much. Thank you to the Academy, thank you to all of you in this room. I have to congratulate the other incredible nominees this year for their unbelievable performances. The Revenant was a product of the tireless efforts of an unbelievable cast and crew I got to work alongside. First off to my brother in this endeavor, Mr. Tom Hardy. Tom, your fierce talent on screen can only be surpassed by your friendship off screen.To Mr. Alejandro Iñárritu, as the history of cinema unfolds, you have forged your way into history these past two years. What an unbelievable talent you are, thank you to you and Chivo for creating a transcendent cinematic experience for all of us. Thank you to everyone from Fox and New Regency, in particular Arnon Milchan, you are the champion of this endeavor. My entire team. I have to thank everyone from the very onset of my career, Mr. Caton Jones for casting me in my first film. Mr. Scorsese for teaching me so much about the cinematic art form. To Mr. Rick Yorn, thank you for helping me navigate my way through this industry. And to my parents none of this would be possible without you. And to my friends I love you dearly you know who you are.And lastly I just want to say this. Making The Revenant was about man's relationship to the natural world. A world that we collectively felt in 2015 as the hottest year in recorded history. Our production needed to move to the southern tip of this planet just to be able to find snow. Climate change is real, it is happening right now. It is the most urgent threat facing our entire species and we need to work collectively together and stop procrastinating. We need to support leaders around the world who do not speak for the big polluters or the big corporations, but who speak for all of humanity for the indigenous people of the world. For the billions and billions of underprivileged people who will be most affected by this. For our children's' children. And for those people out there whose voices have been drowned out by the politics of greed.I thank you all for this amazing award tonight. Let us not take this planet for granted. I do not take tonight for granted. Thank you so very much.\"\"\"\n",
        "#Load dataset\n",
        "dataset = nltk.sent_tokenize(paragraph)"
      ],
      "metadata": {
        "id": "lsxmpBKIB991"
      },
      "execution_count": 39,
      "outputs": []
    },
    {
      "cell_type": "code",
      "source": [
        "#Lowering text, removing punckt(.)\n",
        "for i in range(len(dataset)):\n",
        "  dataset[i] = dataset[i].lower()\n",
        "  dataset[i] = re.sub(r'\\W',' ',dataset[i])\n",
        "  dataset[i] = re.sub(r'\\s+',' ',dataset[i])"
      ],
      "metadata": {
        "id": "gFs-M9S1CE1V"
      },
      "execution_count": 40,
      "outputs": []
    },
    {
      "cell_type": "code",
      "source": [
        "#Creating the histogram to get freq of the words\n",
        "word2count = {}\n",
        "for data in dataset:\n",
        "  words = nltk.word_tokenize(data) #tokenize the dataset\n",
        "  for word in words:\n",
        "    if word not in word2count.keys(): #if this words is not in dictionary word2count then count 1\n",
        "        word2count[word] = 1\n",
        "    else:\n",
        "        word2count[word] += 1 #if already in the dictionary then increase the count"
      ],
      "metadata": {
        "id": "Sz_6xZOjCMYw"
      },
      "execution_count": 41,
      "outputs": []
    },
    {
      "cell_type": "code",
      "source": [
        "import heapq # to find in the largest most frequent all dictionary\n",
        "freq_words = heapq.nlargest(100, word2count, key=word2count.get)"
      ],
      "metadata": {
        "id": "j7JNx0HoCRdL"
      },
      "execution_count": 42,
      "outputs": []
    },
    {
      "cell_type": "code",
      "source": [
        "# IDF Matrix\n",
        "import numpy as np \n",
        "\n",
        "word_idfs = {}\n",
        "for word in freq_words:\n",
        "    doc_count = 0 \n",
        "    for data in dataset:\n",
        "        if word in nltk.word_tokenize(data):\n",
        "            doc_count += 1\n",
        "    word_idfs[word] = np.log((len(dataset)/doc_count)+1)\n",
        "    \n",
        "print (word_idfs)"
      ],
      "metadata": {
        "colab": {
          "base_uri": "https://localhost:8080/"
        },
        "id": "P1dtNmz29dJ0",
        "outputId": "c88090b0-95b9-44a8-ccbf-903b1a066b60"
      },
      "execution_count": 55,
      "outputs": [
        {
          "output_type": "stream",
          "name": "stdout",
          "text": [
            "{'to': 1.0055218656020977, 'the': 1.0498221244986776, 'you': 1.2809338454620642, 'for': 1.213022639845854, 'of': 1.213022639845854, 'this': 1.213022639845854, 'thank': 1.4469189829363254, 'and': 1.4469189829363254, 'i': 1.6739764335716716, 'my': 1.6739764335716716, 'in': 1.824549292051046, 'all': 1.824549292051046, 'mr': 1.824549292051046, 'have': 2.0149030205422647, 'be': 2.0149030205422647, 'who': 2.268683541318364, 'world': 2.268683541318364, 'so': 2.268683541318364, 'very': 2.268683541318364, 'much': 2.268683541318364, 'unbelievable': 2.268683541318364, 'a': 2.268683541318364, 'your': 3.295836866004329, 'by': 2.268683541318364, 'history': 2.6390573296152584, 'are': 2.268683541318364, 'me': 2.268683541318364, 'we': 2.268683541318364, 'our': 2.268683541318364, 'is': 2.6390573296152584, 'not': 2.268683541318364, 'people': 2.268683541318364, 'year': 2.6390573296152584, 'revenant': 2.6390573296152584, 'was': 2.6390573296152584, 'an': 2.6390573296152584, 'work': 2.6390573296152584, 'first': 2.6390573296152584, 'off': 2.6390573296152584, 'endeavor': 2.6390573296152584, 'tom': 2.6390573296152584, 'talent': 2.6390573296152584, 'screen': 3.295836866004329, 'as': 2.6390573296152584, 'way': 2.6390573296152584, 'cinematic': 2.6390573296152584, 'us': 2.6390573296152584, 'everyone': 2.6390573296152584, 'from': 2.6390573296152584, 'entire': 2.6390573296152584, 'about': 2.6390573296152584, 'just': 2.6390573296152584, 's': 2.6390573296152584, 'collectively': 2.6390573296152584, 'planet': 2.6390573296152584, 'it': 2.6390573296152584, 'most': 2.6390573296152584, 'need': 2.6390573296152584, 'do': 2.6390573296152584, 'speak': 3.295836866004329, 'big': 3.295836866004329, 'billions': 3.295836866004329, 'children': 3.295836866004329, 'out': 3.295836866004329, 'tonight': 2.6390573296152584, 'take': 2.6390573296152584, 'granted': 2.6390573296152584, 'academy': 3.295836866004329, 'room': 3.295836866004329, 'congratulate': 3.295836866004329, 'other': 3.295836866004329, 'incredible': 3.295836866004329, 'nominees': 3.295836866004329, 'their': 3.295836866004329, 'performances': 3.295836866004329, 'product': 3.295836866004329, 'tireless': 3.295836866004329, 'efforts': 3.295836866004329, 'cast': 3.295836866004329, 'crew': 3.295836866004329, 'got': 3.295836866004329, 'alongside': 3.295836866004329, 'brother': 3.295836866004329, 'hardy': 3.295836866004329, 'fierce': 3.295836866004329, 'on': 3.295836866004329, 'can': 3.295836866004329, 'only': 3.295836866004329, 'surpassed': 3.295836866004329, 'friendship': 3.295836866004329, 'alejandro': 3.295836866004329, 'iñárritu': 3.295836866004329, 'cinema': 3.295836866004329, 'unfolds': 3.295836866004329, 'forged': 3.295836866004329, 'into': 3.295836866004329, 'these': 3.295836866004329, 'past': 3.295836866004329, 'two': 3.295836866004329, 'years': 3.295836866004329}\n"
          ]
        }
      ]
    },
    {
      "cell_type": "code",
      "source": [
        "# TF Matrix (calculating the frequency of each word in the documents)\n",
        "tf_matrix = {}\n",
        "\n",
        "for word in freq_words:\n",
        "    doc_tf = []\n",
        "    for data in dataset:\n",
        "        frequency = 0\n",
        "        for w in nltk.word_tokenize(data):\n",
        "            if w == word:\n",
        "                frequency += 1\n",
        "        tf_word = frequency/len(nltk.word_tokenize(data))\n",
        "        doc_tf.append(tf_word)\n",
        "    tf_matrix[word] = doc_tf\n",
        "\n",
        "print (tf_matrix)\n"
      ],
      "metadata": {
        "colab": {
          "base_uri": "https://localhost:8080/"
        },
        "id": "LFsU_ywFCLWC",
        "outputId": "b41c9dcd-7afa-4055-bd45-25a32a224284"
      },
      "execution_count": 56,
      "outputs": [
        {
          "output_type": "stream",
          "name": "stdout",
          "text": [
            "{'to': [0.0, 0.14285714285714285, 0.07142857142857142, 0.05, 0.09090909090909091, 0.027777777777777776, 0.045454545454545456, 0.05, 0.0, 0.045454545454545456, 0.0, 0.06666666666666667, 0.08333333333333333, 0.09523809523809523, 0.08333333333333333, 0.0, 0.21052631578947367, 0.0, 0.05, 0.029411764705882353, 0.0, 0.0, 0.0, 0.0, 0.0, 0.0], 'the': [0.0, 0.07142857142857142, 0.07142857142857142, 0.1, 0.0, 0.027777777777777776, 0.0, 0.05, 0.0, 0.045454545454545456, 0.08333333333333333, 0.0, 0.0, 0.0, 0.16666666666666666, 0.06666666666666667, 0.05263157894736842, 0.0, 0.05, 0.14705882352941177, 0.06666666666666667, 0.0, 0.038461538461538464, 0.0, 0.0, 0.0], 'you': [0.25, 0.21428571428571427, 0.0, 0.0, 0.0, 0.027777777777777776, 0.13636363636363635, 0.1, 0.0, 0.0, 0.0, 0.06666666666666667, 0.08333333333333333, 0.14285714285714285, 0.0, 0.0, 0.0, 0.0, 0.0, 0.0, 0.0, 0.0, 0.038461538461538464, 0.0, 0.0, 0.2], 'for': [0.0, 0.0, 0.07142857142857142, 0.0, 0.0, 0.0, 0.09090909090909091, 0.0, 0.0, 0.045454545454545456, 0.08333333333333333, 0.06666666666666667, 0.0, 0.0, 0.0, 0.0, 0.0, 0.0, 0.0, 0.08823529411764706, 0.06666666666666667, 0.2, 0.07692307692307693, 0.125, 0.14285714285714285, 0.0], 'of': [0.0, 0.07142857142857142, 0.0, 0.1, 0.0, 0.027777777777777776, 0.045454545454545456, 0.05, 0.0, 0.045454545454545456, 0.0, 0.0, 0.08333333333333333, 0.0, 0.0, 0.0, 0.05263157894736842, 0.0, 0.0, 0.058823529411764705, 0.06666666666666667, 0.0, 0.038461538461538464, 0.0, 0.0, 0.0], 'this': [0.0, 0.07142857142857142, 0.07142857142857142, 0.0, 0.09090909090909091, 0.0, 0.0, 0.05, 0.0, 0.0, 0.0, 0.06666666666666667, 0.08333333333333333, 0.047619047619047616, 0.0, 0.0, 0.05263157894736842, 0.0, 0.0, 0.0, 0.06666666666666667, 0.0, 0.038461538461538464, 0.125, 0.0, 0.0], 'thank': [0.25, 0.14285714285714285, 0.0, 0.0, 0.0, 0.0, 0.045454545454545456, 0.05, 0.0, 0.045454545454545456, 0.0, 0.06666666666666667, 0.0, 0.0, 0.0, 0.0, 0.0, 0.0, 0.0, 0.0, 0.0, 0.0, 0.038461538461538464, 0.0, 0.0, 0.2], 'and': [0.0, 0.0, 0.0, 0.05, 0.0, 0.0, 0.045454545454545456, 0.05, 0.0, 0.0, 0.0, 0.0, 0.08333333333333333, 0.09523809523809523, 0.0, 0.0, 0.0, 0.0, 0.1, 0.0, 0.06666666666666667, 0.0, 0.038461538461538464, 0.0, 0.0, 0.0], 'i': [0.0, 0.0, 0.07142857142857142, 0.05, 0.0, 0.0, 0.0, 0.0, 0.0, 0.045454545454545456, 0.0, 0.0, 0.0, 0.09523809523809523, 0.0, 0.0, 0.0, 0.0, 0.0, 0.0, 0.0, 0.0, 0.038461538461538464, 0.0, 0.14285714285714285, 0.0], 'my': [0.0, 0.0, 0.0, 0.0, 0.09090909090909091, 0.0, 0.0, 0.0, 0.3333333333333333, 0.09090909090909091, 0.0, 0.06666666666666667, 0.08333333333333333, 0.047619047619047616, 0.0, 0.0, 0.0, 0.0, 0.0, 0.0, 0.0, 0.0, 0.0, 0.0, 0.0, 0.0], 'in': [0.0, 0.07142857142857142, 0.0, 0.0, 0.09090909090909091, 0.0, 0.0, 0.05, 0.0, 0.045454545454545456, 0.0, 0.0, 0.0, 0.0, 0.0, 0.13333333333333333, 0.0, 0.0, 0.0, 0.0, 0.0, 0.0, 0.0, 0.0, 0.0, 0.0], 'all': [0.125, 0.07142857142857142, 0.0, 0.0, 0.0, 0.0, 0.045454545454545456, 0.0, 0.0, 0.0, 0.0, 0.0, 0.0, 0.0, 0.0, 0.0, 0.0, 0.0, 0.0, 0.029411764705882353, 0.0, 0.0, 0.038461538461538464, 0.0, 0.0, 0.0], 'mr': [0.0, 0.0, 0.0, 0.0, 0.09090909090909091, 0.027777777777777776, 0.0, 0.0, 0.0, 0.045454545454545456, 0.08333333333333333, 0.06666666666666667, 0.0, 0.0, 0.0, 0.0, 0.0, 0.0, 0.0, 0.0, 0.0, 0.0, 0.0, 0.0, 0.0, 0.0], 'have': [0.0, 0.0, 0.07142857142857142, 0.0, 0.0, 0.027777777777777776, 0.0, 0.0, 0.0, 0.045454545454545456, 0.0, 0.0, 0.0, 0.0, 0.0, 0.0, 0.0, 0.0, 0.0, 0.0, 0.0, 0.0, 0.038461538461538464, 0.0, 0.0, 0.0], 'be': [0.0, 0.0, 0.0, 0.0, 0.0, 0.027777777777777776, 0.0, 0.0, 0.0, 0.0, 0.0, 0.0, 0.08333333333333333, 0.0, 0.0, 0.0, 0.05263157894736842, 0.0, 0.0, 0.0, 0.06666666666666667, 0.0, 0.0, 0.0, 0.0, 0.0], 'who': [0.0, 0.0, 0.0, 0.0, 0.0, 0.0, 0.0, 0.0, 0.0, 0.0, 0.0, 0.0, 0.0, 0.047619047619047616, 0.0, 0.0, 0.0, 0.0, 0.0, 0.058823529411764705, 0.06666666666666667, 0.0, 0.0, 0.0, 0.0, 0.0], 'world': [0.0, 0.0, 0.0, 0.0, 0.0, 0.0, 0.0, 0.0, 0.0, 0.0, 0.0, 0.0, 0.0, 0.0, 0.08333333333333333, 0.06666666666666667, 0.0, 0.0, 0.0, 0.058823529411764705, 0.0, 0.0, 0.0, 0.0, 0.0, 0.0], 'so': [0.125, 0.0, 0.0, 0.0, 0.0, 0.0, 0.0, 0.0, 0.0, 0.0, 0.08333333333333333, 0.0, 0.0, 0.0, 0.0, 0.0, 0.0, 0.0, 0.0, 0.0, 0.0, 0.0, 0.0, 0.0, 0.0, 0.2], 'very': [0.125, 0.0, 0.0, 0.0, 0.0, 0.0, 0.0, 0.0, 0.0, 0.045454545454545456, 0.0, 0.0, 0.0, 0.0, 0.0, 0.0, 0.0, 0.0, 0.0, 0.0, 0.0, 0.0, 0.0, 0.0, 0.0, 0.2], 'much': [0.125, 0.0, 0.0, 0.0, 0.0, 0.0, 0.0, 0.0, 0.0, 0.0, 0.08333333333333333, 0.0, 0.0, 0.0, 0.0, 0.0, 0.0, 0.0, 0.0, 0.0, 0.0, 0.0, 0.0, 0.0, 0.0, 0.2], 'unbelievable': [0.0, 0.0, 0.07142857142857142, 0.05, 0.0, 0.0, 0.045454545454545456, 0.0, 0.0, 0.0, 0.0, 0.0, 0.0, 0.0, 0.0, 0.0, 0.0, 0.0, 0.0, 0.0, 0.0, 0.0, 0.0, 0.0, 0.0, 0.0], 'a': [0.0, 0.0, 0.0, 0.05, 0.0, 0.0, 0.045454545454545456, 0.0, 0.0, 0.0, 0.0, 0.0, 0.0, 0.0, 0.0, 0.06666666666666667, 0.0, 0.0, 0.0, 0.0, 0.0, 0.0, 0.0, 0.0, 0.0, 0.0], 'your': [0.0, 0.0, 0.0, 0.0, 0.0, 0.08333333333333333, 0.0, 0.0, 0.0, 0.0, 0.0, 0.0, 0.0, 0.0, 0.0, 0.0, 0.0, 0.0, 0.0, 0.0, 0.0, 0.0, 0.0, 0.0, 0.0, 0.0], 'by': [0.0, 0.0, 0.0, 0.0, 0.0, 0.027777777777777776, 0.0, 0.0, 0.0, 0.0, 0.0, 0.0, 0.0, 0.0, 0.0, 0.0, 0.0, 0.0, 0.0, 0.0, 0.06666666666666667, 0.0, 0.038461538461538464, 0.0, 0.0, 0.0], 'history': [0.0, 0.0, 0.0, 0.0, 0.0, 0.05555555555555555, 0.0, 0.0, 0.0, 0.0, 0.0, 0.0, 0.0, 0.0, 0.0, 0.06666666666666667, 0.0, 0.0, 0.0, 0.0, 0.0, 0.0, 0.0, 0.0, 0.0, 0.0], 'are': [0.0, 0.0, 0.0, 0.0, 0.0, 0.0, 0.045454545454545456, 0.05, 0.0, 0.0, 0.0, 0.0, 0.0, 0.047619047619047616, 0.0, 0.0, 0.0, 0.0, 0.0, 0.0, 0.0, 0.0, 0.0, 0.0, 0.0, 0.0], 'me': [0.0, 0.0, 0.0, 0.0, 0.0, 0.0, 0.0, 0.0, 0.0, 0.045454545454545456, 0.08333333333333333, 0.06666666666666667, 0.0, 0.0, 0.0, 0.0, 0.0, 0.0, 0.0, 0.0, 0.0, 0.0, 0.0, 0.0, 0.0, 0.0], 'we': [0.0, 0.0, 0.0, 0.0, 0.0, 0.0, 0.0, 0.0, 0.0, 0.0, 0.0, 0.0, 0.0, 0.0, 0.0, 0.06666666666666667, 0.0, 0.0, 0.05, 0.029411764705882353, 0.0, 0.0, 0.0, 0.0, 0.0, 0.0], 'our': [0.0, 0.0, 0.0, 0.0, 0.0, 0.0, 0.0, 0.0, 0.0, 0.0, 0.0, 0.0, 0.0, 0.0, 0.0, 0.0, 0.05263157894736842, 0.0, 0.05, 0.0, 0.0, 0.2, 0.0, 0.0, 0.0, 0.0], 'is': [0.0, 0.0, 0.0, 0.0, 0.0, 0.0, 0.0, 0.0, 0.0, 0.0, 0.0, 0.0, 0.0, 0.0, 0.0, 0.0, 0.0, 0.2222222222222222, 0.05, 0.0, 0.0, 0.0, 0.0, 0.0, 0.0, 0.0], 'not': [0.0, 0.0, 0.0, 0.0, 0.0, 0.0, 0.0, 0.0, 0.0, 0.0, 0.0, 0.0, 0.0, 0.0, 0.0, 0.0, 0.0, 0.0, 0.0, 0.029411764705882353, 0.0, 0.0, 0.0, 0.125, 0.14285714285714285, 0.0], 'people': [0.0, 0.0, 0.0, 0.0, 0.0, 0.0, 0.0, 0.0, 0.0, 0.0, 0.0, 0.0, 0.0, 0.0, 0.0, 0.0, 0.0, 0.0, 0.0, 0.029411764705882353, 0.06666666666666667, 0.0, 0.038461538461538464, 0.0, 0.0, 0.0], 'year': [0.0, 0.0, 0.07142857142857142, 0.0, 0.0, 0.0, 0.0, 0.0, 0.0, 0.0, 0.0, 0.0, 0.0, 0.0, 0.0, 0.06666666666666667, 0.0, 0.0, 0.0, 0.0, 0.0, 0.0, 0.0, 0.0, 0.0, 0.0], 'revenant': [0.0, 0.0, 0.0, 0.05, 0.0, 0.0, 0.0, 0.0, 0.0, 0.0, 0.0, 0.0, 0.0, 0.0, 0.08333333333333333, 0.0, 0.0, 0.0, 0.0, 0.0, 0.0, 0.0, 0.0, 0.0, 0.0, 0.0], 'was': [0.0, 0.0, 0.0, 0.05, 0.0, 0.0, 0.0, 0.0, 0.0, 0.0, 0.0, 0.0, 0.0, 0.0, 0.08333333333333333, 0.0, 0.0, 0.0, 0.0, 0.0, 0.0, 0.0, 0.0, 0.0, 0.0, 0.0], 'an': [0.0, 0.0, 0.0, 0.05, 0.0, 0.0, 0.045454545454545456, 0.0, 0.0, 0.0, 0.0, 0.0, 0.0, 0.0, 0.0, 0.0, 0.0, 0.0, 0.0, 0.0, 0.0, 0.0, 0.0, 0.0, 0.0, 0.0], 'work': [0.0, 0.0, 0.0, 0.05, 0.0, 0.0, 0.0, 0.0, 0.0, 0.0, 0.0, 0.0, 0.0, 0.0, 0.0, 0.0, 0.0, 0.0, 0.05, 0.0, 0.0, 0.0, 0.0, 0.0, 0.0, 0.0], 'first': [0.0, 0.0, 0.0, 0.0, 0.09090909090909091, 0.0, 0.0, 0.0, 0.0, 0.045454545454545456, 0.0, 0.0, 0.0, 0.0, 0.0, 0.0, 0.0, 0.0, 0.0, 0.0, 0.0, 0.0, 0.0, 0.0, 0.0, 0.0], 'off': [0.0, 0.0, 0.0, 0.0, 0.09090909090909091, 0.027777777777777776, 0.0, 0.0, 0.0, 0.0, 0.0, 0.0, 0.0, 0.0, 0.0, 0.0, 0.0, 0.0, 0.0, 0.0, 0.0, 0.0, 0.0, 0.0, 0.0, 0.0], 'endeavor': [0.0, 0.0, 0.0, 0.0, 0.09090909090909091, 0.0, 0.0, 0.05, 0.0, 0.0, 0.0, 0.0, 0.0, 0.0, 0.0, 0.0, 0.0, 0.0, 0.0, 0.0, 0.0, 0.0, 0.0, 0.0, 0.0, 0.0], 'tom': [0.0, 0.0, 0.0, 0.0, 0.09090909090909091, 0.027777777777777776, 0.0, 0.0, 0.0, 0.0, 0.0, 0.0, 0.0, 0.0, 0.0, 0.0, 0.0, 0.0, 0.0, 0.0, 0.0, 0.0, 0.0, 0.0, 0.0, 0.0], 'talent': [0.0, 0.0, 0.0, 0.0, 0.0, 0.027777777777777776, 0.045454545454545456, 0.0, 0.0, 0.0, 0.0, 0.0, 0.0, 0.0, 0.0, 0.0, 0.0, 0.0, 0.0, 0.0, 0.0, 0.0, 0.0, 0.0, 0.0, 0.0], 'screen': [0.0, 0.0, 0.0, 0.0, 0.0, 0.05555555555555555, 0.0, 0.0, 0.0, 0.0, 0.0, 0.0, 0.0, 0.0, 0.0, 0.0, 0.0, 0.0, 0.0, 0.0, 0.0, 0.0, 0.0, 0.0, 0.0, 0.0], 'as': [0.0, 0.0, 0.0, 0.0, 0.0, 0.027777777777777776, 0.0, 0.0, 0.0, 0.0, 0.0, 0.0, 0.0, 0.0, 0.0, 0.06666666666666667, 0.0, 0.0, 0.0, 0.0, 0.0, 0.0, 0.0, 0.0, 0.0, 0.0], 'way': [0.0, 0.0, 0.0, 0.0, 0.0, 0.027777777777777776, 0.0, 0.0, 0.0, 0.0, 0.0, 0.06666666666666667, 0.0, 0.0, 0.0, 0.0, 0.0, 0.0, 0.0, 0.0, 0.0, 0.0, 0.0, 0.0, 0.0, 0.0], 'cinematic': [0.0, 0.0, 0.0, 0.0, 0.0, 0.0, 0.045454545454545456, 0.0, 0.0, 0.0, 0.08333333333333333, 0.0, 0.0, 0.0, 0.0, 0.0, 0.0, 0.0, 0.0, 0.0, 0.0, 0.0, 0.0, 0.0, 0.0, 0.0], 'us': [0.0, 0.0, 0.0, 0.0, 0.0, 0.0, 0.045454545454545456, 0.0, 0.0, 0.0, 0.0, 0.0, 0.0, 0.0, 0.0, 0.0, 0.0, 0.0, 0.0, 0.0, 0.0, 0.0, 0.0, 0.125, 0.0, 0.0], 'everyone': [0.0, 0.0, 0.0, 0.0, 0.0, 0.0, 0.0, 0.05, 0.0, 0.045454545454545456, 0.0, 0.0, 0.0, 0.0, 0.0, 0.0, 0.0, 0.0, 0.0, 0.0, 0.0, 0.0, 0.0, 0.0, 0.0, 0.0], 'from': [0.0, 0.0, 0.0, 0.0, 0.0, 0.0, 0.0, 0.05, 0.0, 0.045454545454545456, 0.0, 0.0, 0.0, 0.0, 0.0, 0.0, 0.0, 0.0, 0.0, 0.0, 0.0, 0.0, 0.0, 0.0, 0.0, 0.0], 'entire': [0.0, 0.0, 0.0, 0.0, 0.0, 0.0, 0.0, 0.0, 0.3333333333333333, 0.0, 0.0, 0.0, 0.0, 0.0, 0.0, 0.0, 0.0, 0.0, 0.05, 0.0, 0.0, 0.0, 0.0, 0.0, 0.0, 0.0], 'about': [0.0, 0.0, 0.0, 0.0, 0.0, 0.0, 0.0, 0.0, 0.0, 0.0, 0.08333333333333333, 0.0, 0.0, 0.0, 0.08333333333333333, 0.0, 0.0, 0.0, 0.0, 0.0, 0.0, 0.0, 0.0, 0.0, 0.0, 0.0], 'just': [0.0, 0.0, 0.0, 0.0, 0.0, 0.0, 0.0, 0.0, 0.0, 0.0, 0.0, 0.0, 0.0, 0.047619047619047616, 0.0, 0.0, 0.05263157894736842, 0.0, 0.0, 0.0, 0.0, 0.0, 0.0, 0.0, 0.0, 0.0], 's': [0.0, 0.0, 0.0, 0.0, 0.0, 0.0, 0.0, 0.0, 0.0, 0.0, 0.0, 0.0, 0.0, 0.0, 0.08333333333333333, 0.0, 0.0, 0.0, 0.0, 0.0, 0.0, 0.2, 0.0, 0.0, 0.0, 0.0], 'collectively': [0.0, 0.0, 0.0, 0.0, 0.0, 0.0, 0.0, 0.0, 0.0, 0.0, 0.0, 0.0, 0.0, 0.0, 0.0, 0.06666666666666667, 0.0, 0.0, 0.05, 0.0, 0.0, 0.0, 0.0, 0.0, 0.0, 0.0], 'planet': [0.0, 0.0, 0.0, 0.0, 0.0, 0.0, 0.0, 0.0, 0.0, 0.0, 0.0, 0.0, 0.0, 0.0, 0.0, 0.0, 0.05263157894736842, 0.0, 0.0, 0.0, 0.0, 0.0, 0.0, 0.125, 0.0, 0.0], 'it': [0.0, 0.0, 0.0, 0.0, 0.0, 0.0, 0.0, 0.0, 0.0, 0.0, 0.0, 0.0, 0.0, 0.0, 0.0, 0.0, 0.0, 0.1111111111111111, 0.05, 0.0, 0.0, 0.0, 0.0, 0.0, 0.0, 0.0], 'most': [0.0, 0.0, 0.0, 0.0, 0.0, 0.0, 0.0, 0.0, 0.0, 0.0, 0.0, 0.0, 0.0, 0.0, 0.0, 0.0, 0.0, 0.0, 0.05, 0.0, 0.06666666666666667, 0.0, 0.0, 0.0, 0.0, 0.0], 'need': [0.0, 0.0, 0.0, 0.0, 0.0, 0.0, 0.0, 0.0, 0.0, 0.0, 0.0, 0.0, 0.0, 0.0, 0.0, 0.0, 0.0, 0.0, 0.05, 0.029411764705882353, 0.0, 0.0, 0.0, 0.0, 0.0, 0.0], 'do': [0.0, 0.0, 0.0, 0.0, 0.0, 0.0, 0.0, 0.0, 0.0, 0.0, 0.0, 0.0, 0.0, 0.0, 0.0, 0.0, 0.0, 0.0, 0.0, 0.029411764705882353, 0.0, 0.0, 0.0, 0.0, 0.14285714285714285, 0.0], 'speak': [0.0, 0.0, 0.0, 0.0, 0.0, 0.0, 0.0, 0.0, 0.0, 0.0, 0.0, 0.0, 0.0, 0.0, 0.0, 0.0, 0.0, 0.0, 0.0, 0.058823529411764705, 0.0, 0.0, 0.0, 0.0, 0.0, 0.0], 'big': [0.0, 0.0, 0.0, 0.0, 0.0, 0.0, 0.0, 0.0, 0.0, 0.0, 0.0, 0.0, 0.0, 0.0, 0.0, 0.0, 0.0, 0.0, 0.0, 0.058823529411764705, 0.0, 0.0, 0.0, 0.0, 0.0, 0.0], 'billions': [0.0, 0.0, 0.0, 0.0, 0.0, 0.0, 0.0, 0.0, 0.0, 0.0, 0.0, 0.0, 0.0, 0.0, 0.0, 0.0, 0.0, 0.0, 0.0, 0.0, 0.13333333333333333, 0.0, 0.0, 0.0, 0.0, 0.0], 'children': [0.0, 0.0, 0.0, 0.0, 0.0, 0.0, 0.0, 0.0, 0.0, 0.0, 0.0, 0.0, 0.0, 0.0, 0.0, 0.0, 0.0, 0.0, 0.0, 0.0, 0.0, 0.4, 0.0, 0.0, 0.0, 0.0], 'out': [0.0, 0.0, 0.0, 0.0, 0.0, 0.0, 0.0, 0.0, 0.0, 0.0, 0.0, 0.0, 0.0, 0.0, 0.0, 0.0, 0.0, 0.0, 0.0, 0.0, 0.0, 0.0, 0.07692307692307693, 0.0, 0.0, 0.0], 'tonight': [0.0, 0.0, 0.0, 0.0, 0.0, 0.0, 0.0, 0.0, 0.0, 0.0, 0.0, 0.0, 0.0, 0.0, 0.0, 0.0, 0.0, 0.0, 0.0, 0.0, 0.0, 0.0, 0.038461538461538464, 0.0, 0.14285714285714285, 0.0], 'take': [0.0, 0.0, 0.0, 0.0, 0.0, 0.0, 0.0, 0.0, 0.0, 0.0, 0.0, 0.0, 0.0, 0.0, 0.0, 0.0, 0.0, 0.0, 0.0, 0.0, 0.0, 0.0, 0.0, 0.125, 0.14285714285714285, 0.0], 'granted': [0.0, 0.0, 0.0, 0.0, 0.0, 0.0, 0.0, 0.0, 0.0, 0.0, 0.0, 0.0, 0.0, 0.0, 0.0, 0.0, 0.0, 0.0, 0.0, 0.0, 0.0, 0.0, 0.0, 0.125, 0.14285714285714285, 0.0], 'academy': [0.0, 0.07142857142857142, 0.0, 0.0, 0.0, 0.0, 0.0, 0.0, 0.0, 0.0, 0.0, 0.0, 0.0, 0.0, 0.0, 0.0, 0.0, 0.0, 0.0, 0.0, 0.0, 0.0, 0.0, 0.0, 0.0, 0.0], 'room': [0.0, 0.07142857142857142, 0.0, 0.0, 0.0, 0.0, 0.0, 0.0, 0.0, 0.0, 0.0, 0.0, 0.0, 0.0, 0.0, 0.0, 0.0, 0.0, 0.0, 0.0, 0.0, 0.0, 0.0, 0.0, 0.0, 0.0], 'congratulate': [0.0, 0.0, 0.07142857142857142, 0.0, 0.0, 0.0, 0.0, 0.0, 0.0, 0.0, 0.0, 0.0, 0.0, 0.0, 0.0, 0.0, 0.0, 0.0, 0.0, 0.0, 0.0, 0.0, 0.0, 0.0, 0.0, 0.0], 'other': [0.0, 0.0, 0.07142857142857142, 0.0, 0.0, 0.0, 0.0, 0.0, 0.0, 0.0, 0.0, 0.0, 0.0, 0.0, 0.0, 0.0, 0.0, 0.0, 0.0, 0.0, 0.0, 0.0, 0.0, 0.0, 0.0, 0.0], 'incredible': [0.0, 0.0, 0.07142857142857142, 0.0, 0.0, 0.0, 0.0, 0.0, 0.0, 0.0, 0.0, 0.0, 0.0, 0.0, 0.0, 0.0, 0.0, 0.0, 0.0, 0.0, 0.0, 0.0, 0.0, 0.0, 0.0, 0.0], 'nominees': [0.0, 0.0, 0.07142857142857142, 0.0, 0.0, 0.0, 0.0, 0.0, 0.0, 0.0, 0.0, 0.0, 0.0, 0.0, 0.0, 0.0, 0.0, 0.0, 0.0, 0.0, 0.0, 0.0, 0.0, 0.0, 0.0, 0.0], 'their': [0.0, 0.0, 0.07142857142857142, 0.0, 0.0, 0.0, 0.0, 0.0, 0.0, 0.0, 0.0, 0.0, 0.0, 0.0, 0.0, 0.0, 0.0, 0.0, 0.0, 0.0, 0.0, 0.0, 0.0, 0.0, 0.0, 0.0], 'performances': [0.0, 0.0, 0.07142857142857142, 0.0, 0.0, 0.0, 0.0, 0.0, 0.0, 0.0, 0.0, 0.0, 0.0, 0.0, 0.0, 0.0, 0.0, 0.0, 0.0, 0.0, 0.0, 0.0, 0.0, 0.0, 0.0, 0.0], 'product': [0.0, 0.0, 0.0, 0.05, 0.0, 0.0, 0.0, 0.0, 0.0, 0.0, 0.0, 0.0, 0.0, 0.0, 0.0, 0.0, 0.0, 0.0, 0.0, 0.0, 0.0, 0.0, 0.0, 0.0, 0.0, 0.0], 'tireless': [0.0, 0.0, 0.0, 0.05, 0.0, 0.0, 0.0, 0.0, 0.0, 0.0, 0.0, 0.0, 0.0, 0.0, 0.0, 0.0, 0.0, 0.0, 0.0, 0.0, 0.0, 0.0, 0.0, 0.0, 0.0, 0.0], 'efforts': [0.0, 0.0, 0.0, 0.05, 0.0, 0.0, 0.0, 0.0, 0.0, 0.0, 0.0, 0.0, 0.0, 0.0, 0.0, 0.0, 0.0, 0.0, 0.0, 0.0, 0.0, 0.0, 0.0, 0.0, 0.0, 0.0], 'cast': [0.0, 0.0, 0.0, 0.05, 0.0, 0.0, 0.0, 0.0, 0.0, 0.0, 0.0, 0.0, 0.0, 0.0, 0.0, 0.0, 0.0, 0.0, 0.0, 0.0, 0.0, 0.0, 0.0, 0.0, 0.0, 0.0], 'crew': [0.0, 0.0, 0.0, 0.05, 0.0, 0.0, 0.0, 0.0, 0.0, 0.0, 0.0, 0.0, 0.0, 0.0, 0.0, 0.0, 0.0, 0.0, 0.0, 0.0, 0.0, 0.0, 0.0, 0.0, 0.0, 0.0], 'got': [0.0, 0.0, 0.0, 0.05, 0.0, 0.0, 0.0, 0.0, 0.0, 0.0, 0.0, 0.0, 0.0, 0.0, 0.0, 0.0, 0.0, 0.0, 0.0, 0.0, 0.0, 0.0, 0.0, 0.0, 0.0, 0.0], 'alongside': [0.0, 0.0, 0.0, 0.05, 0.0, 0.0, 0.0, 0.0, 0.0, 0.0, 0.0, 0.0, 0.0, 0.0, 0.0, 0.0, 0.0, 0.0, 0.0, 0.0, 0.0, 0.0, 0.0, 0.0, 0.0, 0.0], 'brother': [0.0, 0.0, 0.0, 0.0, 0.09090909090909091, 0.0, 0.0, 0.0, 0.0, 0.0, 0.0, 0.0, 0.0, 0.0, 0.0, 0.0, 0.0, 0.0, 0.0, 0.0, 0.0, 0.0, 0.0, 0.0, 0.0, 0.0], 'hardy': [0.0, 0.0, 0.0, 0.0, 0.09090909090909091, 0.0, 0.0, 0.0, 0.0, 0.0, 0.0, 0.0, 0.0, 0.0, 0.0, 0.0, 0.0, 0.0, 0.0, 0.0, 0.0, 0.0, 0.0, 0.0, 0.0, 0.0], 'fierce': [0.0, 0.0, 0.0, 0.0, 0.0, 0.027777777777777776, 0.0, 0.0, 0.0, 0.0, 0.0, 0.0, 0.0, 0.0, 0.0, 0.0, 0.0, 0.0, 0.0, 0.0, 0.0, 0.0, 0.0, 0.0, 0.0, 0.0], 'on': [0.0, 0.0, 0.0, 0.0, 0.0, 0.027777777777777776, 0.0, 0.0, 0.0, 0.0, 0.0, 0.0, 0.0, 0.0, 0.0, 0.0, 0.0, 0.0, 0.0, 0.0, 0.0, 0.0, 0.0, 0.0, 0.0, 0.0], 'can': [0.0, 0.0, 0.0, 0.0, 0.0, 0.027777777777777776, 0.0, 0.0, 0.0, 0.0, 0.0, 0.0, 0.0, 0.0, 0.0, 0.0, 0.0, 0.0, 0.0, 0.0, 0.0, 0.0, 0.0, 0.0, 0.0, 0.0], 'only': [0.0, 0.0, 0.0, 0.0, 0.0, 0.027777777777777776, 0.0, 0.0, 0.0, 0.0, 0.0, 0.0, 0.0, 0.0, 0.0, 0.0, 0.0, 0.0, 0.0, 0.0, 0.0, 0.0, 0.0, 0.0, 0.0, 0.0], 'surpassed': [0.0, 0.0, 0.0, 0.0, 0.0, 0.027777777777777776, 0.0, 0.0, 0.0, 0.0, 0.0, 0.0, 0.0, 0.0, 0.0, 0.0, 0.0, 0.0, 0.0, 0.0, 0.0, 0.0, 0.0, 0.0, 0.0, 0.0], 'friendship': [0.0, 0.0, 0.0, 0.0, 0.0, 0.027777777777777776, 0.0, 0.0, 0.0, 0.0, 0.0, 0.0, 0.0, 0.0, 0.0, 0.0, 0.0, 0.0, 0.0, 0.0, 0.0, 0.0, 0.0, 0.0, 0.0, 0.0], 'alejandro': [0.0, 0.0, 0.0, 0.0, 0.0, 0.027777777777777776, 0.0, 0.0, 0.0, 0.0, 0.0, 0.0, 0.0, 0.0, 0.0, 0.0, 0.0, 0.0, 0.0, 0.0, 0.0, 0.0, 0.0, 0.0, 0.0, 0.0], 'iñárritu': [0.0, 0.0, 0.0, 0.0, 0.0, 0.027777777777777776, 0.0, 0.0, 0.0, 0.0, 0.0, 0.0, 0.0, 0.0, 0.0, 0.0, 0.0, 0.0, 0.0, 0.0, 0.0, 0.0, 0.0, 0.0, 0.0, 0.0], 'cinema': [0.0, 0.0, 0.0, 0.0, 0.0, 0.027777777777777776, 0.0, 0.0, 0.0, 0.0, 0.0, 0.0, 0.0, 0.0, 0.0, 0.0, 0.0, 0.0, 0.0, 0.0, 0.0, 0.0, 0.0, 0.0, 0.0, 0.0], 'unfolds': [0.0, 0.0, 0.0, 0.0, 0.0, 0.027777777777777776, 0.0, 0.0, 0.0, 0.0, 0.0, 0.0, 0.0, 0.0, 0.0, 0.0, 0.0, 0.0, 0.0, 0.0, 0.0, 0.0, 0.0, 0.0, 0.0, 0.0], 'forged': [0.0, 0.0, 0.0, 0.0, 0.0, 0.027777777777777776, 0.0, 0.0, 0.0, 0.0, 0.0, 0.0, 0.0, 0.0, 0.0, 0.0, 0.0, 0.0, 0.0, 0.0, 0.0, 0.0, 0.0, 0.0, 0.0, 0.0], 'into': [0.0, 0.0, 0.0, 0.0, 0.0, 0.027777777777777776, 0.0, 0.0, 0.0, 0.0, 0.0, 0.0, 0.0, 0.0, 0.0, 0.0, 0.0, 0.0, 0.0, 0.0, 0.0, 0.0, 0.0, 0.0, 0.0, 0.0], 'these': [0.0, 0.0, 0.0, 0.0, 0.0, 0.027777777777777776, 0.0, 0.0, 0.0, 0.0, 0.0, 0.0, 0.0, 0.0, 0.0, 0.0, 0.0, 0.0, 0.0, 0.0, 0.0, 0.0, 0.0, 0.0, 0.0, 0.0], 'past': [0.0, 0.0, 0.0, 0.0, 0.0, 0.027777777777777776, 0.0, 0.0, 0.0, 0.0, 0.0, 0.0, 0.0, 0.0, 0.0, 0.0, 0.0, 0.0, 0.0, 0.0, 0.0, 0.0, 0.0, 0.0, 0.0, 0.0], 'two': [0.0, 0.0, 0.0, 0.0, 0.0, 0.027777777777777776, 0.0, 0.0, 0.0, 0.0, 0.0, 0.0, 0.0, 0.0, 0.0, 0.0, 0.0, 0.0, 0.0, 0.0, 0.0, 0.0, 0.0, 0.0, 0.0, 0.0], 'years': [0.0, 0.0, 0.0, 0.0, 0.0, 0.027777777777777776, 0.0, 0.0, 0.0, 0.0, 0.0, 0.0, 0.0, 0.0, 0.0, 0.0, 0.0, 0.0, 0.0, 0.0, 0.0, 0.0, 0.0, 0.0, 0.0, 0.0]}\n"
          ]
        }
      ]
    },
    {
      "cell_type": "code",
      "source": [
        "# TF-IDF calculation\n",
        "\n",
        "tfidf_matrix = []\n",
        "for word in tf_matrix . keys (): \n",
        "    tfidf = [] \n",
        "    for value in tf_matrix [ word ]: \n",
        "        score = value * word_idfs [ word ] \n",
        "        tfidf . append ( score ) \n",
        "    tfidf_matrix . append ( tfidf ) \n",
        "        \n",
        "    \n",
        "X = np.asarray(tfidf_matrix)\n",
        "print(X)"
      ],
      "metadata": {
        "colab": {
          "base_uri": "https://localhost:8080/"
        },
        "id": "sUjH5sqa__1t",
        "outputId": "100675d5-53c3-4d47-fbd6-46d0f797f972"
      },
      "execution_count": 59,
      "outputs": [
        {
          "output_type": "stream",
          "name": "stdout",
          "text": [
            "[[0.         0.14364598 0.07182299 ... 0.         0.         0.        ]\n",
            " [0.         0.07498729 0.07498729 ... 0.         0.         0.        ]\n",
            " [0.32023346 0.27448582 0.         ... 0.         0.         0.25618677]\n",
            " ...\n",
            " [0.         0.         0.         ... 0.         0.         0.        ]\n",
            " [0.         0.         0.         ... 0.         0.         0.        ]\n",
            " [0.         0.         0.         ... 0.         0.         0.        ]]\n"
          ]
        }
      ]
    },
    {
      "cell_type": "code",
      "source": [],
      "metadata": {
        "id": "HP1JPfO4FeHw"
      },
      "execution_count": null,
      "outputs": []
    }
  ]
}